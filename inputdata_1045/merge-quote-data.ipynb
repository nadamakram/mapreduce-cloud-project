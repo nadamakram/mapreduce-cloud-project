{
 "cells": [
  {
   "cell_type": "code",
   "execution_count": 15,
   "metadata": {},
   "outputs": [],
   "source": [
    "import pandas as pd"
   ]
  },
  {
   "cell_type": "code",
   "execution_count": 16,
   "metadata": {},
   "outputs": [],
   "source": [
    "tsla = pd.read_csv('./inputdata_1045/TSLA.csv')\n",
    "swvl = pd.read_csv('./inputdata_1045/SWVL.csv')\n",
    "meta = pd.read_csv('./inputdata_1045/META.csv')\n",
    "google = pd.read_csv('./inputdata_1045/GOOG.csv')\n",
    "apple = pd.read_csv('./inputdata_1045/AAPL.csv')\n"
   ]
  },
  {
   "cell_type": "code",
   "execution_count": 17,
   "metadata": {},
   "outputs": [],
   "source": [
    "tsla['Quote'] = \"TSLA\""
   ]
  },
  {
   "cell_type": "code",
   "execution_count": 18,
   "metadata": {},
   "outputs": [],
   "source": [
    "swvl['Quote'] = \"SWVL\"\n",
    "meta['Quote'] = \"META\"\n",
    "google['Quote'] = \"GOOG\"\n",
    "apple['Quote'] = \"AAPL\"\n"
   ]
  },
  {
   "cell_type": "code",
   "execution_count": 19,
   "metadata": {},
   "outputs": [],
   "source": [
    "df = pd.concat([tsla, swvl,meta,google, apple])"
   ]
  },
  {
   "cell_type": "code",
   "execution_count": 20,
   "metadata": {},
   "outputs": [
    {
     "data": {
      "text/html": [
       "<div>\n",
       "<style scoped>\n",
       "    .dataframe tbody tr th:only-of-type {\n",
       "        vertical-align: middle;\n",
       "    }\n",
       "\n",
       "    .dataframe tbody tr th {\n",
       "        vertical-align: top;\n",
       "    }\n",
       "\n",
       "    .dataframe thead th {\n",
       "        text-align: right;\n",
       "    }\n",
       "</style>\n",
       "<table border=\"1\" class=\"dataframe\">\n",
       "  <thead>\n",
       "    <tr style=\"text-align: right;\">\n",
       "      <th></th>\n",
       "      <th>Date</th>\n",
       "      <th>Open</th>\n",
       "      <th>High</th>\n",
       "      <th>Low</th>\n",
       "      <th>Close</th>\n",
       "      <th>Adj Close</th>\n",
       "      <th>Volume</th>\n",
       "      <th>Quote</th>\n",
       "    </tr>\n",
       "  </thead>\n",
       "  <tbody>\n",
       "    <tr>\n",
       "      <th>0</th>\n",
       "      <td>2023-01-26</td>\n",
       "      <td>159.970001</td>\n",
       "      <td>161.419998</td>\n",
       "      <td>154.759995</td>\n",
       "      <td>160.270004</td>\n",
       "      <td>160.270004</td>\n",
       "      <td>234815100</td>\n",
       "      <td>TSLA</td>\n",
       "    </tr>\n",
       "    <tr>\n",
       "      <th>1</th>\n",
       "      <td>2023-01-27</td>\n",
       "      <td>162.429993</td>\n",
       "      <td>180.679993</td>\n",
       "      <td>161.169998</td>\n",
       "      <td>177.899994</td>\n",
       "      <td>177.899994</td>\n",
       "      <td>306590600</td>\n",
       "      <td>TSLA</td>\n",
       "    </tr>\n",
       "    <tr>\n",
       "      <th>2</th>\n",
       "      <td>2023-01-30</td>\n",
       "      <td>178.050003</td>\n",
       "      <td>179.770004</td>\n",
       "      <td>166.500000</td>\n",
       "      <td>166.660004</td>\n",
       "      <td>166.660004</td>\n",
       "      <td>230878800</td>\n",
       "      <td>TSLA</td>\n",
       "    </tr>\n",
       "    <tr>\n",
       "      <th>3</th>\n",
       "      <td>2023-01-31</td>\n",
       "      <td>164.570007</td>\n",
       "      <td>174.300003</td>\n",
       "      <td>162.779999</td>\n",
       "      <td>173.220001</td>\n",
       "      <td>173.220001</td>\n",
       "      <td>196813500</td>\n",
       "      <td>TSLA</td>\n",
       "    </tr>\n",
       "    <tr>\n",
       "      <th>4</th>\n",
       "      <td>2023-02-01</td>\n",
       "      <td>173.889999</td>\n",
       "      <td>183.809998</td>\n",
       "      <td>169.929993</td>\n",
       "      <td>181.410004</td>\n",
       "      <td>181.410004</td>\n",
       "      <td>213806300</td>\n",
       "      <td>TSLA</td>\n",
       "    </tr>\n",
       "    <tr>\n",
       "      <th>...</th>\n",
       "      <td>...</td>\n",
       "      <td>...</td>\n",
       "      <td>...</td>\n",
       "      <td>...</td>\n",
       "      <td>...</td>\n",
       "      <td>...</td>\n",
       "      <td>...</td>\n",
       "      <td>...</td>\n",
       "    </tr>\n",
       "    <tr>\n",
       "      <th>247</th>\n",
       "      <td>2024-01-22</td>\n",
       "      <td>192.300003</td>\n",
       "      <td>195.330002</td>\n",
       "      <td>192.259995</td>\n",
       "      <td>193.889999</td>\n",
       "      <td>193.889999</td>\n",
       "      <td>60133900</td>\n",
       "      <td>AAPL</td>\n",
       "    </tr>\n",
       "    <tr>\n",
       "      <th>248</th>\n",
       "      <td>2024-01-23</td>\n",
       "      <td>195.020004</td>\n",
       "      <td>195.750000</td>\n",
       "      <td>193.830002</td>\n",
       "      <td>195.179993</td>\n",
       "      <td>195.179993</td>\n",
       "      <td>42355600</td>\n",
       "      <td>AAPL</td>\n",
       "    </tr>\n",
       "    <tr>\n",
       "      <th>249</th>\n",
       "      <td>2024-01-24</td>\n",
       "      <td>195.419998</td>\n",
       "      <td>196.380005</td>\n",
       "      <td>194.339996</td>\n",
       "      <td>194.500000</td>\n",
       "      <td>194.500000</td>\n",
       "      <td>53631300</td>\n",
       "      <td>AAPL</td>\n",
       "    </tr>\n",
       "    <tr>\n",
       "      <th>250</th>\n",
       "      <td>2024-01-25</td>\n",
       "      <td>195.220001</td>\n",
       "      <td>196.270004</td>\n",
       "      <td>193.110001</td>\n",
       "      <td>194.169998</td>\n",
       "      <td>194.169998</td>\n",
       "      <td>54822100</td>\n",
       "      <td>AAPL</td>\n",
       "    </tr>\n",
       "    <tr>\n",
       "      <th>251</th>\n",
       "      <td>2024-01-26</td>\n",
       "      <td>194.270004</td>\n",
       "      <td>194.759995</td>\n",
       "      <td>191.940002</td>\n",
       "      <td>192.419998</td>\n",
       "      <td>192.419998</td>\n",
       "      <td>44553400</td>\n",
       "      <td>AAPL</td>\n",
       "    </tr>\n",
       "  </tbody>\n",
       "</table>\n",
       "<p>1260 rows × 8 columns</p>\n",
       "</div>"
      ],
      "text/plain": [
       "           Date        Open        High         Low       Close   Adj Close  \\\n",
       "0    2023-01-26  159.970001  161.419998  154.759995  160.270004  160.270004   \n",
       "1    2023-01-27  162.429993  180.679993  161.169998  177.899994  177.899994   \n",
       "2    2023-01-30  178.050003  179.770004  166.500000  166.660004  166.660004   \n",
       "3    2023-01-31  164.570007  174.300003  162.779999  173.220001  173.220001   \n",
       "4    2023-02-01  173.889999  183.809998  169.929993  181.410004  181.410004   \n",
       "..          ...         ...         ...         ...         ...         ...   \n",
       "247  2024-01-22  192.300003  195.330002  192.259995  193.889999  193.889999   \n",
       "248  2024-01-23  195.020004  195.750000  193.830002  195.179993  195.179993   \n",
       "249  2024-01-24  195.419998  196.380005  194.339996  194.500000  194.500000   \n",
       "250  2024-01-25  195.220001  196.270004  193.110001  194.169998  194.169998   \n",
       "251  2024-01-26  194.270004  194.759995  191.940002  192.419998  192.419998   \n",
       "\n",
       "        Volume Quote  \n",
       "0    234815100  TSLA  \n",
       "1    306590600  TSLA  \n",
       "2    230878800  TSLA  \n",
       "3    196813500  TSLA  \n",
       "4    213806300  TSLA  \n",
       "..         ...   ...  \n",
       "247   60133900  AAPL  \n",
       "248   42355600  AAPL  \n",
       "249   53631300  AAPL  \n",
       "250   54822100  AAPL  \n",
       "251   44553400  AAPL  \n",
       "\n",
       "[1260 rows x 8 columns]"
      ]
     },
     "execution_count": 20,
     "metadata": {},
     "output_type": "execute_result"
    }
   ],
   "source": [
    "df"
   ]
  },
  {
   "cell_type": "code",
   "execution_count": 21,
   "metadata": {},
   "outputs": [
    {
     "data": {
      "text/plain": [
       "array(['TSLA', 'SWVL', 'META', 'GOOG', 'AAPL'], dtype=object)"
      ]
     },
     "execution_count": 21,
     "metadata": {},
     "output_type": "execute_result"
    }
   ],
   "source": [
    "df['Quote'].unique()"
   ]
  },
  {
   "cell_type": "code",
   "execution_count": 27,
   "metadata": {},
   "outputs": [
    {
     "data": {
      "text/plain": [
       "Index(['Quote', 'Date', 'Open', 'High', 'Low', 'Close', 'Adj Close', 'Volume'], dtype='object')"
      ]
     },
     "execution_count": 27,
     "metadata": {},
     "output_type": "execute_result"
    }
   ],
   "source": [
    "df.columns"
   ]
  },
  {
   "cell_type": "code",
   "execution_count": 24,
   "metadata": {},
   "outputs": [],
   "source": [
    "df = df[['Quote','Date', 'Open', 'High', 'Low', 'Close', 'Adj Close', 'Volume']]"
   ]
  },
  {
   "cell_type": "code",
   "execution_count": 25,
   "metadata": {},
   "outputs": [
    {
     "name": "stdout",
     "output_type": "stream",
     "text": [
      "<class 'pandas.core.frame.DataFrame'>\n",
      "Index: 1260 entries, 0 to 251\n",
      "Data columns (total 8 columns):\n",
      " #   Column     Non-Null Count  Dtype  \n",
      "---  ------     --------------  -----  \n",
      " 0   Quote      1260 non-null   object \n",
      " 1   Date       1260 non-null   object \n",
      " 2   Open       1260 non-null   float64\n",
      " 3   High       1260 non-null   float64\n",
      " 4   Low        1260 non-null   float64\n",
      " 5   Close      1260 non-null   float64\n",
      " 6   Adj Close  1260 non-null   float64\n",
      " 7   Volume     1260 non-null   int64  \n",
      "dtypes: float64(5), int64(1), object(2)\n",
      "memory usage: 88.6+ KB\n"
     ]
    }
   ],
   "source": [
    "df.info()"
   ]
  },
  {
   "cell_type": "code",
   "execution_count": 26,
   "metadata": {},
   "outputs": [],
   "source": [
    "df.to_csv('./inputdata_1045/stock_1045.csv', index=False)"
   ]
  },
  {
   "cell_type": "code",
   "execution_count": null,
   "metadata": {},
   "outputs": [],
   "source": []
  }
 ],
 "metadata": {
  "kernelspec": {
   "display_name": "mlpr",
   "language": "python",
   "name": "python3"
  },
  "language_info": {
   "codemirror_mode": {
    "name": "ipython",
    "version": 3
   },
   "file_extension": ".py",
   "mimetype": "text/x-python",
   "name": "python",
   "nbconvert_exporter": "python",
   "pygments_lexer": "ipython3",
   "version": "3.10.13"
  }
 },
 "nbformat": 4,
 "nbformat_minor": 2
}
